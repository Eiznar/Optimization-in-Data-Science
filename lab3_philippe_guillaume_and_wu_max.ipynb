{
  "cells": [
    {
      "cell_type": "markdown",
      "metadata": {
        "id": "_KP4Q2pd1vcA"
      },
      "source": [
        "# Short Lab 3 : Proximal/cyclic/greedy coordinate descent\n",
        "\n",
        "#### Authors: A. Gramfort, M. Massias, P. Ablin\n",
        "\n",
        "## Aim\n",
        "\n",
        "The aim of this material is to code \n",
        "- cyclic and greedy coordinate descent for ordinary least squares (OLS)\n",
        "- proximal coordinate descent for sparse Logistic regression\n",
        "\n",
        "## VERY IMPORTANT\n",
        "\n",
        "- This work **must be done by pairs of students**.\n",
        "- **Each** student must send their work **before the 23th of november at noon**, using the **moodle platform**.\n",
        "- This means that **each student in the pair sends the same file**\n",
        "- The **name of the file must be** constructed as in the next cell\n",
        "\n",
        "# Gentle reminder: no evaluation if you don't respect this EXACTLY\n",
        "\n",
        "### How to construct the name of your file"
      ]
    },
    {
      "cell_type": "code",
      "execution_count": null,
      "metadata": {
        "colab": {
          "base_uri": "https://localhost:8080/"
        },
        "id": "hZVRtfqc1vcG",
        "outputId": "690561c0-ee16-416f-aef8-2666b1ad8f04"
      },
      "outputs": [
        {
          "output_type": "stream",
          "name": "stdout",
          "text": [
            "lab3_philippe_guillaume_and_wu_max.ipynb\n"
          ]
        }
      ],
      "source": [
        "# Change here using YOUR first and last names\n",
        "fn1 = \"guillaume\"\n",
        "ln1 = \"philippe\"\n",
        "fn2 = \"max\"\n",
        "ln2 = \"wu\"\n",
        "\n",
        "filename = \"_\".join(map(lambda s: s.strip().lower(), \n",
        "                        [\"lab3\", ln1, fn1, \"and\", ln2, fn2])) + \".ipynb\"\n",
        "print(filename)"
      ]
    },
    {
      "cell_type": "code",
      "execution_count": null,
      "metadata": {
        "id": "tvznj6f71vcH"
      },
      "outputs": [],
      "source": [
        "import numpy as np\n",
        "from numpy.linalg import norm\n",
        "import matplotlib.pyplot as plt\n",
        "\n",
        "%matplotlib inline"
      ]
    },
    {
      "cell_type": "code",
      "execution_count": null,
      "metadata": {
        "id": "mfCPN7m-1vcI"
      },
      "outputs": [],
      "source": [
        "# the usual functions:\n",
        "\n",
        "from numpy.random import multivariate_normal\n",
        "from scipy.linalg.special_matrices import toeplitz\n",
        "from numpy.random import randn\n",
        "\n",
        "\n",
        "def simu(coefs, n_samples=1000, corr=0.5, for_logreg=False):\n",
        "    n_features = len(coefs)\n",
        "    cov = toeplitz(corr ** np.arange(0, n_features))\n",
        "    A = multivariate_normal(np.zeros(n_features), cov, size=n_samples)\n",
        "    b = A.dot(coefs) + randn(n_samples)\n",
        "    if for_logreg:\n",
        "        b = np.sign(b)\n",
        "    return A, b"
      ]
    },
    {
      "cell_type": "markdown",
      "metadata": {
        "id": "L0SAWEwm1vcI"
      },
      "source": [
        "## Part 1: Ordinary Least Squares\n",
        "\n",
        "\n",
        "Let $A \\in \\mathbb{R}^{n \\times p}$, $y \\in \\mathbb{R}^n$.\n",
        "We want to use coordinate descent to solve:\n",
        "  $$\\hat w \\in \\mathrm{arg \\, min \\,} \\frac 12 \\vert Aw - b \\vert ^2$$\n",
        "\n",
        "<div class=\"alert alert-success\">\n",
        "    <b>QUESTION 1:</b> We ask you to code \n",
        "     <ul>\n",
        "         <li>cyclic coordinate descent: at iteration $t$, update feature $j = t \\mod p$</li>\n",
        "         <li>greedy coordinate descent: at iteration $t$, update feature having the largest partial gradient in magnitude, ie $j = \\mathrm{arg\\, max \\,}_{i} \\vert \\nabla_i f(w_t) \\vert$.\n",
        "</li>\n",
        "    </ul>\n",
        "</div>\n",
        "\n",
        "**WARNING**: You must do this in a clever way, ie such that $p$ updates cost the same as one update of GD."
      ]
    },
    {
      "cell_type": "code",
      "execution_count": null,
      "metadata": {
        "id": "CFVaiXhq1vcJ"
      },
      "outputs": [],
      "source": [
        "n_features = 100\n",
        "np.random.seed(1970)\n",
        "coefs = np.random.randn(n_features)\n",
        "\n",
        "A, b = simu(coefs, n_samples=1000, for_logreg=False)"
      ]
    },
    {
      "cell_type": "code",
      "execution_count": null,
      "metadata": {
        "id": "Eca5bFr11vcK"
      },
      "outputs": [],
      "source": [
        "def cyclic_cd(A, b, n_iter):\n",
        "    n_samples, n_features = A.shape\n",
        "    all_objs = []\n",
        "    \n",
        "    w = np.zeros(n_features)\n",
        "    residuals = b - A.dot(w)\n",
        "    \n",
        "    # TODO\n",
        "    lips_const = norm(A, axis=0) ** 2\n",
        "    # END TODO\n",
        "    \n",
        "    for t in range(n_iter):\n",
        "        j = t % n_features\n",
        "        # TODO\n",
        "        old_w_j = w[j]\n",
        "        w[j] += 1 / lips_const[j] * np.dot(A[:, j].T, residuals)\n",
        "        # update residuals:\n",
        "        residuals += A[:,j].T.dot(old_w_j - w[j])\n",
        "        # END TODO\n",
        "        \n",
        "        if t % n_features == 0:\n",
        "            all_objs.append((residuals ** 2).sum() / 2.)\n",
        "    return w, np.array(all_objs)\n",
        "\n",
        "\n",
        "\n",
        "def greedy_cd(A, b, n_iter):\n",
        "    n_samples, n_features = A.shape\n",
        "    all_objs = []\n",
        "    \n",
        "    w = np.zeros(n_features)\n",
        "    \n",
        "    gradient = A.T.dot(A.dot(w) - b)\n",
        "    gram = A.T.dot(A)  # you will need this to keep the gradient up to date\n",
        "    \n",
        "    # TODO\n",
        "    lips_const = np.sum(A * A, axis=0)\n",
        "    # END TODO \n",
        "    \n",
        "    for t in range(n_iter):\n",
        "        # TODO\n",
        "        # choose feature j to update: \n",
        "        j = np.argmax(np.abs(gradient))\n",
        "        old_w_j = w[j]\n",
        "        w[j] -= 1 / lips_const[j] * gradient[j] \n",
        "        # update gradient:\n",
        "        gradient  -= gram[:,j] * (old_w_j - w[j])\n",
        "        # END TODO\n",
        "        if t % n_features == 0:\n",
        "            all_objs.append(0.5 * np.linalg.norm(A.dot(w) - b) ** 2)\n",
        "    \n",
        "    return w, np.array(all_objs)"
      ]
    },
    {
      "cell_type": "markdown",
      "metadata": {
        "id": "Ji90lAnV1vcL"
      },
      "source": [
        "<div class=\"alert alert-success\">\n",
        "    <b>QUESTION 2:</b>\n",
        "     <ul>\n",
        "         <li>Compute a precise minimum with your favorite solver</li>\n",
        "         <li>Compare the performance of cyclic and greedy CD as function of iterations.</li>\n",
        "         <li>From a practical point of view, could you use greedy CD for L2 regularized logistic regression? to solve OLS, but with 100,000 features? Explain your answers.</li>\n",
        "    </ul>\n",
        "</div>\n",
        "\n",
        "**Remark:** You will do the plots using the number of iterations on the x-axis and not time as your code is likely to be slow unless you use [numba](https://numba.pydata.org/)."
      ]
    },
    {
      "cell_type": "code",
      "execution_count": null,
      "metadata": {
        "colab": {
          "base_uri": "https://localhost:8080/",
          "height": 295
        },
        "id": "bNvfVvex1vcM",
        "outputId": "808ab030-8be1-46e6-85a8-be882a6739d7"
      },
      "outputs": [
        {
          "output_type": "display_data",
          "data": {
            "text/plain": [
              "<Figure size 432x288 with 1 Axes>"
            ],
            "image/png": "[encoded data removed]"
          },
          "metadata": {
            "needs_background": "light"
          }
        }
      ],
      "source": [
        "eps = np.finfo(\"float\").eps\n",
        "\n",
        "# Find a precise minimum\n",
        "x = np.linalg.solve(A.T @ A, A.T @ b)\n",
        "\n",
        "x_solve = 0.5 * norm(A.dot(x) - b) ** 2\n",
        "\n",
        "iter=100 * n_features\n",
        "w_cyclic, objs_cyclic = cyclic_cd(A, b, n_iter=iter)\n",
        "w_greedy, objs_greedy = greedy_cd(A, b, n_iter=iter)\n",
        "\n",
        "plt.figure()\n",
        "plt.title(\"Distance to the minimum\")\n",
        "plt.semilogy(np.maximum(objs_cyclic - x_solve, eps), label=\"Cyclic CD\")\n",
        "plt.semilogy(np.maximum(objs_greedy - x_solve, eps), label=\"Greedy CD\")\n",
        "plt.xlabel(\"iterations\")\n",
        "plt.ylabel(\"$f(x_t) - f(x^*)$\")\n",
        "plt.legend()\n",
        "plt.show()"
      ]
    },
    {
      "cell_type": "markdown",
      "metadata": {
        "id": "WkBOP09rIY3-"
      },
      "source": [
        "\n",
        "\n",
        "*   Comparison of cyclic and greedy CD as function of iterations : the cyclic and greedy CD both reach the same minimizer. The greedy reaches the minimizer with around 10 iterations earlier because it tries to converge toward the direction (feature) with the highest gradient (better than going toward a direction randomly in average). \n",
        "*   Greedy CD for L2 (Ridge) regularized logistic regression with 100,000 features : This method requires to compute the complete gradient which means that determining the direction with the highest gradient value is very costly each iteration. This method would lead to poorer performances than cyclic CD as the number of features grow, which makes it unconvenient for practical cases.\n",
        "\n",
        "*   Greedy CD for L2 (Ridge) regularized OLS with 100,000 features : Again, the need to compute the complete gradient and determining the direction which has the highest gradient is heavy in term of time complexity, leading to $O(p^2)$ time complexity ($O(p)$ to determine the best gradient direction multiplied by $p$ iterations) where $p$ is the number of features.\n",
        "\n"
      ]
    },
    {
      "cell_type": "markdown",
      "metadata": {
        "id": "PQj38u0d1vcM"
      },
      "source": [
        "## Part 2: Sparse Logistic regression"
      ]
    },
    {
      "cell_type": "markdown",
      "metadata": {
        "id": "e6BTRtHP1vcN"
      },
      "source": [
        "### An important result\n",
        "\n",
        "Remember: we are solving \n",
        "$$\\hat w \\in \\mathrm{arg \\, min} \\sum_{i=1}^{n} \\mathrm{log} ( 1 + e^{- y_i w^\\top x_i} )  + \\lambda \\Vert w \\Vert_1$$\n",
        "\n",
        "<div class=\"alert alert-success\">\n",
        "    <b>QUESTION 3:</b><br/>\n",
        "    Assuming uniqueness of the solution, show that: \n",
        "  $\\lambda \\geq \\lambda_{max} \\Leftrightarrow \\hat w = 0$\n",
        "where $\\lambda_{max} := \\frac 12 \\Vert X^\\top y \\Vert_{\\infty}$.\n",
        "</div>\n",
        "\n",
        "**HINT:** You will need the following beautiful result: for any $w =(w_1, \\dots, w_p) \\in \\mathbb{R}^p$, the subdifferential of the L1 norm at $w$ is:\n",
        "\n",
        "$$\\partial \\Vert \\cdot \\Vert_1 (w) = \\partial \\vert \\cdot \\vert (w_1)  \\times \\dots \\times \\partial \\vert \\cdot \\vert (w_p) $$\n",
        "where $\\times$ is the Cartesian product between sets,\n",
        "and $$ \\partial \\vert \\cdot \\vert (w_j) = \n",
        "\\begin{cases} &w_j / |w_j| &\\mathrm{if} \\quad w_j \\neq 0, \n",
        "         \\\\ & [-1, 1] &\\mathrm{otherwise.} \n",
        "\\end{cases}\n",
        "$$\n",
        "\n",
        "\n",
        "(it should now be easy to find $\\partial \\Vert \\cdot \\Vert_1 (\\mathbf{0}_p)$)"
      ]
    },
    {
      "cell_type": "markdown",
      "metadata": {
        "id": "lq9VPxlT1vcN"
      },
      "source": [
        "**Answer**\n",
        "\n",
        "Let $$F = f+g$$ where $f(w) = \\sum_{i=1}^{n} \\mathrm{log} ( 1 + e^{- y_i w^\\top x_i} ) $, $g(w) = \\lambda \\Vert w \\Vert_1 $\n",
        "\n",
        "The gradient of $f$ is given by $$\\nabla f(w) = \\sum_{i=1}^{n} \\frac{-y_i x_i}{1+e^{y_i w^\\top x_i}} $$. \n",
        "\n",
        "The sub gradient of $g$ is given by $\\partial \\Vert \\cdot \\Vert_1 (w) = \\partial \\vert \\cdot \\vert (w_1) \\times \\dots \\times \\partial \\vert \\cdot \\vert (w_p)$.\n",
        "\n",
        "\n",
        "We have $$\\partial F(w) = \\nabla f(w) + \\lambda \\partial \\Vert \\cdot \\Vert_1(w)$$\n",
        "\n",
        "\n",
        "Then the equivalence $$\\hat w = 0  \\Leftrightarrow 0 \\in \\partial F(0) $$\n",
        "where \n",
        "$$\\partial F(0) = \\nabla f(0) + \\lambda \\partial \\Vert \\cdot \\Vert_1(0) $$\n",
        "\n",
        "When $w_j = 0$, we have $\\partial \\vert \\cdot \\vert (w_j) = [-1, 1]$. As consequence, we have $\\partial \\Vert . \\Vert_1 (0)$ equal to $n$ times the cartesian product of $[-1,1]$.\n",
        "\n",
        "$$\\partial \\Vert . \\Vert_1 (0) = [-1, 1]^n$$\n",
        "\n",
        "We can replace $\\partial \\Vert . \\Vert_1 (0)$,\n",
        "$$\\partial F(0) = \\frac{1}{2}\\sum_{i=1}^{n} -y_i x_i + \\lambda[-1,1]^n $$\n",
        "\n",
        "In matrix form, $$\\partial F(0) = - \\frac{1}{2} X^{\\top}y + \\lambda[-1,1]^n $$\n",
        "\n",
        "\n",
        "\n",
        "becomes \n",
        "$$\\hat w = 0  \\Leftrightarrow \\frac{1}{2} X^{\\top}y\\in [-\\lambda, \\lambda]^n$$\n",
        "\n",
        "which remains true if $ \\lambda \\geq \\lambda_{max} = \\frac{1}{2}\\Vert X^{\\top}y\\Vert_∞$"
      ]
    },
    {
      "cell_type": "markdown",
      "metadata": {
        "id": "ISM_PRFb1vcN"
      },
      "source": [
        "<div class=\"alert alert-success\">\n",
        "    <b>QUESTION 4:</b><br/>\n",
        "    Show that for sparse Logistic regression the coordinate-wise Lipschitz constant of the smooth term, \n",
        "  $\\gamma_j$, can be taken equal to $\\Vert X_j \\Vert^2 / 4$, where $X_j$ denotes the $j$-th column of $X$.\n",
        "</div>"
      ]
    },
    {
      "cell_type": "markdown",
      "metadata": {
        "id": "5i_-YbY71vcN"
      },
      "source": [
        "**Answer**\n",
        "\n",
        "The gradient of $f$ w.r.t $w$ is given by : \n",
        "$$\\nabla f(w) = \\sum_{i=1}^{n} \\frac{-y_i x_i}{1+e^{y_i w^\\top x_i}} $$\n",
        "\n",
        "Therefore, the hessian of $f$ w.r.t $w$ is given by : $$\\nabla^2 f(w) = \\sum_{i=1}^{n} \\frac{y_i^2 x_i^2 e^{y_i w^\\top x_i} }{(1+e^{y_i w^\\top x_i})^2} $$\n",
        "\n",
        "Let us notice that $\\forall x \\in \\mathbb{R}, f(x) = \\frac{x}{(1+x)^2} \\leq \\frac{1}{4}$, $\\sum_{i=1}^{n} y_i^2 x_i^2 =\\Vert X \\Vert^2$ and  ($y_i^2 = 1$) so it is safe to take $\\gamma_j$ as $\\Vert X_j \\Vert^2 / 4$, where $X_j$ denotes the $j$-th column of $X$."
      ]
    },
    {
      "cell_type": "markdown",
      "metadata": {
        "id": "h33elreo1vcO"
      },
      "source": [
        "<div class=\"alert alert-success\">\n",
        "    <b>QUESTION 5:</b><br/>\n",
        "    Code cyclic proximal coordinate descent for sparse Logistic regression:\n",
        "</div>\n",
        "\n",
        "**WARNING**: the Lasso means linear regression (quadratic fitting term) with L1 penalty. Sparse logistic regression means logistic regression with L1 penalty."
      ]
    },
    {
      "cell_type": "code",
      "execution_count": null,
      "metadata": {
        "id": "DL1i7vJa1vcO"
      },
      "outputs": [],
      "source": [
        "X, y = simu(coefs, n_samples=1000, for_logreg=True)\n",
        "lambda_max = norm(X.T.dot(y), ord= np.inf) / 2.\n",
        "lamb = lambda_max / 20.  \n",
        "# much easier to parametrize lambda as a function of lambda_max than \n",
        "# to take random values like 0.1 in previous Labs\n",
        "\n",
        "\n",
        "def sigmoid(t):\n",
        "    \"\"\"Sigmoid function\"\"\"\n",
        "    return 1. / (1. + np.exp(-t))\n",
        "\n",
        "\n",
        "def soft_thresh(x, u):\n",
        "    \"\"\"Soft thresholding of x at level u\"\"\"\n",
        "    return np.sign(x) * np.maximum(0., np.abs(x) - u)\n",
        "\n",
        "\n",
        "def cd_logreg(X, y, lamb, n_iter):\n",
        "    n_samples, n_features = X.shape\n",
        "    w = np.zeros(n_features)\n",
        "    Xw = X.dot(w)\n",
        "    \n",
        "\n",
        "    all_objs = np.zeros(n_iter)\n",
        "    # TODO\n",
        "    lips_const = (X.T@X/4).diagonal()\n",
        "    # END TODO\n",
        "    \n",
        "    for t in range(n_iter):\n",
        "        for j in range(n_features):\n",
        "            old_w_j = w[j]\n",
        "            # TODO\n",
        "            grad_j = - np.sum(y * X[:, j] * sigmoid(- y * Xw))\n",
        "            w[j] = soft_thresh(old_w_j - 1/lips_const[j] * grad_j, lamb/lips_const[j])\n",
        "            \n",
        "            if old_w_j != w[j]:\n",
        "                Xw += X[:, j] * (w[j] - old_w_j)\n",
        "            #END TODO\n",
        "            \n",
        "        all_objs[t] = np.log(1. + np.exp(-y * Xw)).sum() + lamb * norm(w, ord=1)\n",
        "    \n",
        "    return w, all_objs"
      ]
    },
    {
      "cell_type": "markdown",
      "metadata": {
        "id": "esUs2p2K1vcO"
      },
      "source": [
        "# Part 3: Real data\n",
        "\n",
        "We will compare vanilla cyclic CD and ISTA to solve the Lasso on a real dataset, called _leukemia_."
      ]
    },
    {
      "cell_type": "code",
      "execution_count": null,
      "metadata": {
        "id": "VIx2zFZb1vcP"
      },
      "outputs": [],
      "source": [
        "from sklearn.datasets import fetch_openml\n",
        "\n",
        "leuk = fetch_openml(\"leukemia\")\n",
        "\n",
        "X = np.asfortranarray(leuk.data)\n",
        "y = np.ones(leuk.target.shape)\n",
        "y[leuk.target == leuk.target[0]] = -1."
      ]
    },
    {
      "cell_type": "code",
      "execution_count": null,
      "metadata": {
        "colab": {
          "base_uri": "https://localhost:8080/"
        },
        "id": "30i2wG841vcP",
        "outputId": "94f0e65a-905b-440c-96ab-f78bd74f4b14"
      },
      "outputs": [
        {
          "output_type": "stream",
          "name": "stdout",
          "text": [
            "(72, 7129)\n"
          ]
        }
      ],
      "source": [
        "print(X.shape)\n",
        "\n",
        "lambda_max_lasso = norm(X.T.dot(y), ord=np.inf)\n",
        "lambd = lambda_max_lasso / 5."
      ]
    },
    {
      "cell_type": "markdown",
      "metadata": {
        "id": "dOlv64xh1vcP"
      },
      "source": [
        "<div class=\"alert alert-success\">\n",
        "    <b>QUESTION 6:</b> Code\n",
        "    <ul>\n",
        "        <li>a simple proximal gradient solver for the Lasso</li>\n",
        "        <li>a prox CD solver for the Lasso and compare them on this dataset.</li>\n",
        "    </ul>\n",
        "</div>\n",
        "\n",
        "**Remark:** Do the plots in terms of epochs, not updates (to be fair to CD)."
      ]
    },
    {
      "cell_type": "code",
      "execution_count": null,
      "metadata": {
        "id": "wkfQ5TjKInal"
      },
      "outputs": [],
      "source": [
        "def grad_logreg(w, X, y, n_samples):\n",
        "  y_exp = np.expand_dims(y, 1)\n",
        "  return - y * X.T @ sigmoid(- y_exp * X @ w)\n",
        "\n",
        "def ista_logreg(X, y, lambd, n_iter):\n",
        "  n_samples, n_features = X.shape\n",
        "  w = np.zeros(n_features)\n",
        "  all_objs = np.zeros(n_iter)\n",
        "\n",
        "  lipst_const = np.linalg.norm(X, ord=2) ** 2 / 4\n",
        "\n",
        "  for t in range(n_iter):\n",
        "    w = soft_thresh(w - grad_logreg(w, X, y, n_samples) / lipst_const, lambd / lipst_const)\n",
        "\n",
        "    all_objs[t] = np.log(1. + np.exp(-y * X.dot(w))).sum() + lambd * norm(w, ord=1)\n",
        "  return w, all_objs"
      ]
    },
    {
      "cell_type": "code",
      "execution_count": null,
      "metadata": {
        "id": "kSw-aJxM1vcP"
      },
      "outputs": [],
      "source": [
        "# Find a precise minimum\n",
        "iter=5000\n",
        "w_best, objs_logreg = ista_logreg(X, y, lambd, n_iter=iter)\n",
        "obj_best = objs_logreg[-1]"
      ]
    },
    {
      "cell_type": "code",
      "execution_count": null,
      "metadata": {
        "id": "TpxgnWuDK9P5"
      },
      "outputs": [],
      "source": [
        "# Run ISTA and Prox CD\n",
        "iter=100\n",
        "w_ista_logreg, objs_ista_logreg = ista_logreg(X, y, lambd, n_iter=iter)\n",
        "w_cd_logreg, objs_cd_logreg = cd_logreg(X, y, lambd, n_iter=iter)"
      ]
    },
    {
      "cell_type": "code",
      "execution_count": null,
      "metadata": {
        "colab": {
          "base_uri": "https://localhost:8080/",
          "height": 295
        },
        "id": "QiQMqz7SM1LN",
        "outputId": "02e42dc2-d9bf-4256-ba7c-6303b427aaa1"
      },
      "outputs": [
        {
          "output_type": "display_data",
          "data": {
            "text/plain": [
              "<Figure size 432x288 with 1 Axes>"
            ],
            "image/png": "[encoded data removed]"
          },
          "metadata": {
            "needs_background": "light"
          }
        }
      ],
      "source": [
        "plt.figure()\n",
        "plt.semilogy(objs_ista_logreg - obj_best, label=\"ISTA\")\n",
        "plt.semilogy(objs_cd_logreg - obj_best, label=\"Proximal CD\")\n",
        "plt.title(\"Distance to the minimum for ISTA and Proximal CD\")\n",
        "plt.xlabel(\"Epochs\")\n",
        "plt.ylabel(\"$f(x_t) - f(x^*)$\")\n",
        "plt.legend()\n",
        "plt.show()"
      ]
    },
    {
      "cell_type": "markdown",
      "metadata": {
        "id": "hnkc8wyeJY7n"
      },
      "source": [
        "* We first computed a good approximation of the minimizer using the CD for the logistic regression case (5,000 iterations). \n",
        "\n",
        "* Once we have a good approximation of the minimizer, we can plot the distance to the minimum of the 2 methods. Proximal CD converges faster than ISTA. The leukemia dataset contains 7129 features and only 72 samples. In this case of high number of features, one step of Proximal CD takes 1 feature and 72 samples and we are in a case with higher number of samples than feature. Moreover, this also explains the poor convergence of ISTA.\n",
        "\n",
        "* The Lasso regularization brings sparsity over time, which makes it slow in the beginning but linear until the end, thus explaining the two different slopes observed on the plot above. If we look at the stem plot of $w$ below, we see a lot of zeros except for some features. We print the name of the features nonzero.\n",
        "\n",
        "* Also, it is important to remark that the x-axis of the plot is the number of epochs. For ISTA, the number of epochs and iterations are the same. However, for Proximal CD, one epoch corresponds to the number of features iterations. Fortunately, each iteration concerns only one feature of the dataset, so iteration are lighter."
      ]
    },
    {
      "cell_type": "code",
      "source": [
        "# features nonzero\n",
        "leuk.data.columns[np.where(w_cd_logreg != 0)]"
      ],
      "metadata": {
        "colab": {
          "base_uri": "https://localhost:8080/"
        },
        "id": "PlE4Af8Y4zt9",
        "outputId": "e15559e0-45c7-4d8d-d257-30b984b55066"
      },
      "execution_count": null,
      "outputs": [
        {
          "output_type": "execute_result",
          "data": {
            "text/plain": [
              "Index(['HG3549-HT3751_at', 'M27891_at', 'M14483_rna1_s_at'], dtype='object')"
            ]
          },
          "metadata": {},
          "execution_count": 72
        }
      ]
    },
    {
      "cell_type": "code",
      "source": [
        "plt.figure()\n",
        "plt.stem(w_cd_logreg)\n",
        "plt.show()"
      ],
      "metadata": {
        "colab": {
          "base_uri": "https://localhost:8080/",
          "height": 332
        },
        "id": "K_pACdw00Er_",
        "outputId": "d7e02466-2a61-4ef2-8f5c-c97bd147b0a4"
      },
      "execution_count": null,
      "outputs": [
        {
          "output_type": "stream",
          "name": "stderr",
          "text": [
            "/usr/local/lib/python3.7/dist-packages/ipykernel_launcher.py:1: UserWarning: In Matplotlib 3.3 individual lines on a stem plot will be added as a LineCollection instead of individual lines. This significantly improves the performance of a stem plot. To remove this warning and switch to the new behaviour, set the \"use_line_collection\" keyword argument to True.\n",
            "  \"\"\"Entry point for launching an IPython kernel.\n"
          ]
        },
        {
          "output_type": "display_data",
          "data": {
            "text/plain": [
              "<Figure size 432x288 with 1 Axes>"
            ],
            "image/png": "[encoded data removed]"
          },
          "metadata": {
            "needs_background": "light"
          }
        }
      ]
    }
  ],
  "metadata": {
    "anaconda-cloud": {},
    "colab": {
      "provenance": []
    },
    "kernelspec": {
      "display_name": "Python 3",
      "language": "python",
      "name": "python3"
    },
    "language_info": {
      "codemirror_mode": {
        "name": "ipython",
        "version": 3
      },
      "file_extension": ".py",
      "mimetype": "text/x-python",
      "name": "python",
      "nbconvert_exporter": "python",
      "pygments_lexer": "ipython3",
      "version": "3.8.6"
    }
  },
  "nbformat": 4,
  "nbformat_minor": 0
}